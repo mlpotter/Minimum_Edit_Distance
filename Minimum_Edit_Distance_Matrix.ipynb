{
 "cells": [
  {
   "cell_type": "code",
   "execution_count": 10,
   "metadata": {},
   "outputs": [],
   "source": [
    "import numpy as np\n",
    "import pandas as pd"
   ]
  },
  {
   "cell_type": "markdown",
   "metadata": {},
   "source": [
    "<img src=\"./EditDistExample1.png\">\n",
    "<img src=\"./EditDistInit4.png\">\n",
    "<img src=\"./EditDistFill2.png\">"
   ]
  },
  {
   "cell_type": "code",
   "execution_count": 15,
   "metadata": {},
   "outputs": [],
   "source": [
    "def min_edit_distance_matrix(source,target,insert_cost=1,delete_cost=1,sub_cost=2):\n",
    "    \"\"\"\n",
    "    input: \n",
    "        source - the start point word\n",
    "        target - the desired word for source to be transformed to\n",
    "        insert_cost - the cost to insert a character to source\n",
    "        delete_cost - the cost to delete a character to source\n",
    "        sub_cost - the cost to replace a character in source with another character\n",
    "    \n",
    "    output:\n",
    "        D - minimum edit distance matrix of size m x n , m = length(source) n=length(target)\n",
    "    \"\"\"\n",
    "    # get length of the source word\n",
    "    m = len(source)\n",
    "    # get length of the target word\n",
    "    n = len(target)\n",
    "    \n",
    "    # initialize m x n minimum edit distance matrix with zeros\n",
    "    D = np.zeros((m+1,n+1))\n",
    "    # initialize first row of MEDM\n",
    "    for row in range(1,m+1):\n",
    "        D[row,0] = row\n",
    "    # initialize first column MEDM\n",
    "    for col in range(1,n+1):\n",
    "        D[0,col] = col\n",
    "    \n",
    "    # iterate over each character positio of source\n",
    "    for row in range(1,m+1):\n",
    "        # iterate over each character position of target\n",
    "        for col in range(1,n+1):\n",
    "            # evaluate the replace edit if source[i] != target[j]\n",
    "            replace_edit = D[row-1,col-1] + sub_cost\n",
    "            \n",
    "            # if source[i] == target[j] then the replace_edit distance = D[row-1,col-1]\n",
    "            if source[row-1] == target[col-1]:\n",
    "                replace_edit = D[row-1,col-1]\n",
    "            \n",
    "            D[row,col] = min([D[row-1,col]+delete_cost,D[row,col-1]+insert_cost,replace_edit])\n",
    "            \n",
    "    return D"
   ]
  },
  {
   "cell_type": "code",
   "execution_count": 12,
   "metadata": {},
   "outputs": [],
   "source": [
    "source =  'play'\n",
    "target = 'stay'"
   ]
  },
  {
   "cell_type": "code",
   "execution_count": 13,
   "metadata": {},
   "outputs": [],
   "source": [
    "MEDM = min_edit_distance_matrix(source,target)"
   ]
  },
  {
   "cell_type": "code",
   "execution_count": 14,
   "metadata": {},
   "outputs": [
    {
     "name": "stdout",
     "output_type": "stream",
     "text": [
      "   #  s  t  a  y\n",
      "#  0  1  2  3  4\n",
      "p  1  2  3  4  5\n",
      "l  2  3  4  5  6\n",
      "a  3  4  5  4  5\n",
      "y  4  5  6  5  4\n"
     ]
    }
   ],
   "source": [
    "idx = list('#' + source)\n",
    "cols = list('#' + target)\n",
    "df = pd.DataFrame(MEDM, index=idx, columns= cols,dtype=np.int)\n",
    "print(df)"
   ]
  }
 ],
 "metadata": {
  "kernelspec": {
   "display_name": "Python 3",
   "language": "python",
   "name": "python3"
  },
  "language_info": {
   "codemirror_mode": {
    "name": "ipython",
    "version": 3
   },
   "file_extension": ".py",
   "mimetype": "text/x-python",
   "name": "python",
   "nbconvert_exporter": "python",
   "pygments_lexer": "ipython3",
   "version": "3.7.4"
  }
 },
 "nbformat": 4,
 "nbformat_minor": 4
}
